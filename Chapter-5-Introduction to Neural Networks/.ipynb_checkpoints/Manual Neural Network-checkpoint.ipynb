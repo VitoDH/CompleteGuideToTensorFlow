{
 "cells": [
  {
   "cell_type": "markdown",
   "metadata": {},
   "source": [
    "# Manual Neural Network"
   ]
  },
  {
   "cell_type": "markdown",
   "metadata": {},
   "source": [
    "## Part One - Basics"
   ]
  },
  {
   "cell_type": "code",
   "execution_count": 1,
   "metadata": {
    "collapsed": true
   },
   "outputs": [],
   "source": [
    "class SimpleClass():\n",
    "    \n",
    "    def __init__(self,name):\n",
    "        print(\"hello\"+name)\n",
    "    \n",
    "    def yell(self):\n",
    "        print(\"YELLING\")"
   ]
  },
  {
   "cell_type": "code",
   "execution_count": 2,
   "metadata": {},
   "outputs": [
    {
     "name": "stdout",
     "output_type": "stream",
     "text": [
      "hellovito\n"
     ]
    }
   ],
   "source": [
    "x = SimpleClass('vito')"
   ]
  },
  {
   "cell_type": "code",
   "execution_count": 3,
   "metadata": {},
   "outputs": [
    {
     "name": "stdout",
     "output_type": "stream",
     "text": [
      "YELLING\n"
     ]
    }
   ],
   "source": [
    "x.yell()"
   ]
  },
  {
   "cell_type": "code",
   "execution_count": 4,
   "metadata": {
    "collapsed": true
   },
   "outputs": [],
   "source": [
    "class ExtendedClass(SimpleClass):\n",
    "    \n",
    "    def __init__(self):\n",
    "        super().__init__('Jose')\n",
    "        print(\"EXTEND!\")"
   ]
  },
  {
   "cell_type": "code",
   "execution_count": 5,
   "metadata": {},
   "outputs": [
    {
     "name": "stdout",
     "output_type": "stream",
     "text": [
      "helloJose\n",
      "EXTEND!\n"
     ]
    }
   ],
   "source": [
    "y = ExtendedClass()"
   ]
  },
  {
   "cell_type": "code",
   "execution_count": 6,
   "metadata": {},
   "outputs": [
    {
     "name": "stdout",
     "output_type": "stream",
     "text": [
      "YELLING\n"
     ]
    }
   ],
   "source": [
    "y.yell()"
   ]
  },
  {
   "cell_type": "markdown",
   "metadata": {},
   "source": [
    "## Part Two - Operations"
   ]
  },
  {
   "cell_type": "code",
   "execution_count": 7,
   "metadata": {
    "collapsed": true
   },
   "outputs": [],
   "source": [
    "class Operation():\n",
    "    \n",
    "    def __init__(self,input_nodes=[]):\n",
    "        \n",
    "        self.input_nodes = input_nodes\n",
    "        self.output_nodes = []\n",
    "        \n",
    "        for node in input_nodes:\n",
    "            # when initialize the child, link the child to the parent. (child: self, parent:nodes)\n",
    "            node.output_nodes.append(self)\n",
    "        \n",
    "        # ...\n",
    "        _default_graph.operations.append(self)\n",
    "    def compute(self):\n",
    "        pass"
   ]
  },
  {
   "cell_type": "code",
   "execution_count": 8,
   "metadata": {
    "collapsed": true
   },
   "outputs": [],
   "source": [
    "class add(Operation):\n",
    "    \n",
    "    def __init__(self,x,y):\n",
    "        super().__init__([x,y])\n",
    "    \n",
    "    def compute(self,x_var,y_var):\n",
    "        self.inputs = [x_var,y_var]\n",
    "        return x_var + y_var"
   ]
  },
  {
   "cell_type": "code",
   "execution_count": 9,
   "metadata": {
    "collapsed": true
   },
   "outputs": [],
   "source": [
    "class multiply(Operation):\n",
    "    \n",
    "    def __init__(self,x,y):\n",
    "        super().__init__([x,y])\n",
    "    \n",
    "    def compute(self,x_var,y_var):\n",
    "        self.inputs = [x_var,y_var]\n",
    "        return x_var * y_var"
   ]
  },
  {
   "cell_type": "code",
   "execution_count": 10,
   "metadata": {
    "collapsed": true
   },
   "outputs": [],
   "source": [
    "class matmul(Operation):\n",
    "    \n",
    "    def __init__(self,x,y):\n",
    "        super().__init__([x,y])\n",
    "    \n",
    "    def compute(self,x_var,y_var):\n",
    "        self.inputs = [x_var,y_var]\n",
    "        return x_var.dot(y_var)"
   ]
  },
  {
   "cell_type": "markdown",
   "metadata": {},
   "source": [
    "## Part Three - Placeholders & Variables"
   ]
  },
  {
   "cell_type": "markdown",
   "metadata": {},
   "source": [
    "Placeholder : An empty node that needs a value to be provided to compute output"
   ]
  },
  {
   "cell_type": "markdown",
   "metadata": {},
   "source": [
    "Variable: Changeable parameter of Graph"
   ]
  },
  {
   "cell_type": "markdown",
   "metadata": {},
   "source": [
    "Graph: Global Variable connecting variables and placeholders to operations"
   ]
  },
  {
   "cell_type": "code",
   "execution_count": 11,
   "metadata": {
    "collapsed": true
   },
   "outputs": [],
   "source": [
    "class Placeholder():\n",
    "    \n",
    "    def __init__(self):\n",
    "        \n",
    "        self.output_nodes = []\n",
    "    \n",
    "        _default_graph.placeholders.append(self)\n",
    "        "
   ]
  },
  {
   "cell_type": "code",
   "execution_count": 12,
   "metadata": {
    "collapsed": true
   },
   "outputs": [],
   "source": [
    "class Variable():\n",
    "    \n",
    "    def __init__(self,initial_value=None):\n",
    "        \n",
    "        self.value = initial_value\n",
    "        self.output_nodes = []\n",
    "        \n",
    "        _default_graph.variables.append(self)"
   ]
  },
  {
   "cell_type": "code",
   "execution_count": 13,
   "metadata": {
    "collapsed": true
   },
   "outputs": [],
   "source": [
    "class Graph():\n",
    "    \n",
    "    def __init__(self):\n",
    "        \n",
    "        self.operations = []\n",
    "        # input vaulue\n",
    "        self.placeholders = []\n",
    "        # parameters\n",
    "        self.variables = []\n",
    "        \n",
    "    def set_as_default(self):\n",
    "        \n",
    "        global _default_graph\n",
    "        _default_graph = self"
   ]
  },
  {
   "cell_type": "markdown",
   "metadata": {},
   "source": [
    "z = Ax + b\n",
    "\n",
    "A = 10\n",
    "\n",
    "b = 1\n",
    "\n",
    "z = 10x + 1"
   ]
  },
  {
   "cell_type": "markdown",
   "metadata": {},
   "source": [
    "x is a placeholder here "
   ]
  },
  {
   "cell_type": "code",
   "execution_count": 14,
   "metadata": {
    "collapsed": true
   },
   "outputs": [],
   "source": [
    "g = Graph()"
   ]
  },
  {
   "cell_type": "code",
   "execution_count": 15,
   "metadata": {
    "collapsed": true
   },
   "outputs": [],
   "source": [
    "g.set_as_default()"
   ]
  },
  {
   "cell_type": "code",
   "execution_count": 16,
   "metadata": {
    "collapsed": true
   },
   "outputs": [],
   "source": [
    "A = Variable(10)"
   ]
  },
  {
   "cell_type": "code",
   "execution_count": 17,
   "metadata": {
    "collapsed": true
   },
   "outputs": [],
   "source": [
    "b = Variable(1)"
   ]
  },
  {
   "cell_type": "code",
   "execution_count": 18,
   "metadata": {
    "collapsed": true
   },
   "outputs": [],
   "source": [
    "x = Placeholder()"
   ]
  },
  {
   "cell_type": "code",
   "execution_count": 19,
   "metadata": {
    "collapsed": true
   },
   "outputs": [],
   "source": [
    "y = multiply(A,x)"
   ]
  },
  {
   "cell_type": "code",
   "execution_count": 20,
   "metadata": {
    "collapsed": true
   },
   "outputs": [],
   "source": [
    "z = add(y,b)"
   ]
  },
  {
   "cell_type": "markdown",
   "metadata": {},
   "source": [
    "Need a  post order tree traversal to compute the value/ execute the graph"
   ]
  },
  {
   "cell_type": "markdown",
   "metadata": {},
   "source": [
    "## Part Four - Session"
   ]
  },
  {
   "cell_type": "code",
   "execution_count": 21,
   "metadata": {
    "collapsed": true
   },
   "outputs": [],
   "source": [
    "import numpy as np"
   ]
  },
  {
   "cell_type": "code",
   "execution_count": 22,
   "metadata": {
    "collapsed": true
   },
   "outputs": [],
   "source": [
    "def traverse_postorder(operation):\n",
    "    \"\"\" \n",
    "    PostOrder Traversal of Nodes. Basically makes sure computations are done in \n",
    "    the correct order (Ax first , then Ax + b). Feel free to copy and paste this code.\n",
    "    It is not super important for understanding the basic fundamentals of deep learning.\n",
    "    \"\"\"\n",
    "    \n",
    "    nodes_postorder = []\n",
    "    def recurse(node):\n",
    "        if isinstance(node, Operation):\n",
    "            for input_node in node.input_nodes:\n",
    "                recurse(input_node)\n",
    "        nodes_postorder.append(node)\n",
    "\n",
    "    recurse(operation)\n",
    "    return nodes_postorder"
   ]
  },
  {
   "cell_type": "code",
   "execution_count": 23,
   "metadata": {
    "collapsed": true
   },
   "outputs": [],
   "source": [
    "class Session():\n",
    "    \n",
    "    def run(self,operation,feed_dict={}):\n",
    "        # feed_dict: mapping placeholder to actual value\n",
    "        nodes_postoder = traverse_postorder(operation)\n",
    "        \n",
    "        for node in nodes_postoder:\n",
    "            \n",
    "            if type(node) == Placeholder:\n",
    "                node.output = feed_dict[node]\n",
    "            elif type(node) == Variable:\n",
    "                node.output = node.value\n",
    "            else:\n",
    "                # an operation\n",
    "                node.inputs = [input_node.output for input_node in node.input_nodes]\n",
    "                # * we don't know the number of parameters    args\n",
    "                node.output = node.compute(*node.inputs)\n",
    "            \n",
    "            if type(node.output) == list:\n",
    "                node.output = np.array(node.output)\n",
    "        return(operation.output)"
   ]
  },
  {
   "cell_type": "code",
   "execution_count": 24,
   "metadata": {
    "collapsed": true
   },
   "outputs": [],
   "source": [
    "sess = Session()"
   ]
  },
  {
   "cell_type": "code",
   "execution_count": 25,
   "metadata": {},
   "outputs": [],
   "source": [
    "result = sess.run(operation=z,feed_dict={x:10})"
   ]
  },
  {
   "cell_type": "code",
   "execution_count": 26,
   "metadata": {},
   "outputs": [
    {
     "data": {
      "text/plain": [
       "101"
      ]
     },
     "execution_count": 26,
     "metadata": {},
     "output_type": "execute_result"
    }
   ],
   "source": [
    "result"
   ]
  },
  {
   "cell_type": "code",
   "execution_count": 27,
   "metadata": {
    "collapsed": true
   },
   "outputs": [],
   "source": [
    "g = Graph()\n",
    "g.set_as_default()\n",
    "\n",
    "A = Variable([[10,20],[30,40]])\n",
    "b = Variable([1,2])\n",
    "\n",
    "x = Placeholder()\n",
    "\n",
    "y = matmul(A,x)\n",
    "z = add(y,b)"
   ]
  },
  {
   "cell_type": "code",
   "execution_count": 28,
   "metadata": {
    "collapsed": true
   },
   "outputs": [],
   "source": [
    "sess = Session()"
   ]
  },
  {
   "cell_type": "code",
   "execution_count": 29,
   "metadata": {},
   "outputs": [
    {
     "data": {
      "text/plain": [
       "array([[101, 202],\n",
       "       [301, 402]])"
      ]
     },
     "execution_count": 29,
     "metadata": {},
     "output_type": "execute_result"
    }
   ],
   "source": [
    "sess.run(operation = z, feed_dict={x:10})"
   ]
  },
  {
   "cell_type": "code",
   "execution_count": null,
   "metadata": {
    "collapsed": true
   },
   "outputs": [],
   "source": []
  }
 ],
 "metadata": {
  "kernelspec": {
   "display_name": "Python 3",
   "language": "python",
   "name": "python3"
  },
  "language_info": {
   "codemirror_mode": {
    "name": "ipython",
    "version": 3
   },
   "file_extension": ".py",
   "mimetype": "text/x-python",
   "name": "python",
   "nbconvert_exporter": "python",
   "pygments_lexer": "ipython3",
   "version": "3.5.4"
  }
 },
 "nbformat": 4,
 "nbformat_minor": 2
}
