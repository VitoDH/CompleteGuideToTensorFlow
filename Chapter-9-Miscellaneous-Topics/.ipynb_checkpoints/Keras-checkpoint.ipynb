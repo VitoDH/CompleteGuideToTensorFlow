{
 "cells": [
  {
   "cell_type": "markdown",
   "metadata": {},
   "source": [
    "# Abstraction API"
   ]
  },
  {
   "cell_type": "markdown",
   "metadata": {},
   "source": [
    "## Part One"
   ]
  },
  {
   "cell_type": "code",
   "execution_count": 1,
   "metadata": {
    "collapsed": true
   },
   "outputs": [],
   "source": [
    "from sklearn.datasets import load_wine"
   ]
  },
  {
   "cell_type": "code",
   "execution_count": 2,
   "metadata": {
    "collapsed": true
   },
   "outputs": [],
   "source": [
    "wine_data = load_wine()"
   ]
  },
  {
   "cell_type": "code",
   "execution_count": 3,
   "metadata": {},
   "outputs": [
    {
     "data": {
      "text/plain": [
       "sklearn.utils.Bunch"
      ]
     },
     "execution_count": 3,
     "metadata": {},
     "output_type": "execute_result"
    }
   ],
   "source": [
    "type(wine_data)"
   ]
  },
  {
   "cell_type": "code",
   "execution_count": 4,
   "metadata": {},
   "outputs": [
    {
     "data": {
      "text/plain": [
       "dict_keys(['target_names', 'target', 'DESCR', 'data', 'feature_names'])"
      ]
     },
     "execution_count": 4,
     "metadata": {},
     "output_type": "execute_result"
    }
   ],
   "source": [
    "wine_data.keys()"
   ]
  },
  {
   "cell_type": "code",
   "execution_count": 5,
   "metadata": {},
   "outputs": [
    {
     "name": "stdout",
     "output_type": "stream",
     "text": [
      "Wine Data Database\n",
      "====================\n",
      "\n",
      "Notes\n",
      "-----\n",
      "Data Set Characteristics:\n",
      "    :Number of Instances: 178 (50 in each of three classes)\n",
      "    :Number of Attributes: 13 numeric, predictive attributes and the class\n",
      "    :Attribute Information:\n",
      " \t\t- 1) Alcohol\n",
      " \t\t- 2) Malic acid\n",
      " \t\t- 3) Ash\n",
      "\t\t- 4) Alcalinity of ash  \n",
      " \t\t- 5) Magnesium\n",
      "\t\t- 6) Total phenols\n",
      " \t\t- 7) Flavanoids\n",
      " \t\t- 8) Nonflavanoid phenols\n",
      " \t\t- 9) Proanthocyanins\n",
      "\t\t- 10)Color intensity\n",
      " \t\t- 11)Hue\n",
      " \t\t- 12)OD280/OD315 of diluted wines\n",
      " \t\t- 13)Proline\n",
      "        \t- class:\n",
      "                - class_0\n",
      "                - class_1\n",
      "                - class_2\n",
      "\t\t\n",
      "    :Summary Statistics:\n",
      "    \n",
      "    ============================= ==== ===== ======= =====\n",
      "                                   Min   Max   Mean     SD\n",
      "    ============================= ==== ===== ======= =====\n",
      "    Alcohol:                      11.0  14.8    13.0   0.8\n",
      "    Malic Acid:                   0.74  5.80    2.34  1.12\n",
      "    Ash:                          1.36  3.23    2.36  0.27\n",
      "    Alcalinity of Ash:            10.6  30.0    19.5   3.3\n",
      "    Magnesium:                    70.0 162.0    99.7  14.3\n",
      "    Total Phenols:                0.98  3.88    2.29  0.63\n",
      "    Flavanoids:                   0.34  5.08    2.03  1.00\n",
      "    Nonflavanoid Phenols:         0.13  0.66    0.36  0.12\n",
      "    Proanthocyanins:              0.41  3.58    1.59  0.57\n",
      "    Colour Intensity:              1.3  13.0     5.1   2.3\n",
      "    Hue:                          0.48  1.71    0.96  0.23\n",
      "    OD280/OD315 of diluted wines: 1.27  4.00    2.61  0.71\n",
      "    Proline:                       278  1680     746   315\n",
      "    ============================= ==== ===== ======= =====\n",
      "\n",
      "    :Missing Attribute Values: None\n",
      "    :Class Distribution: class_0 (59), class_1 (71), class_2 (48)\n",
      "    :Creator: R.A. Fisher\n",
      "    :Donor: Michael Marshall (MARSHALL%PLU@io.arc.nasa.gov)\n",
      "    :Date: July, 1988\n",
      "\n",
      "This is a copy of UCI ML Wine recognition datasets.\n",
      "https://archive.ics.uci.edu/ml/machine-learning-databases/wine/wine.data\n",
      "\n",
      "The data is the results of a chemical analysis of wines grown in the same\n",
      "region in Italy by three different cultivators. There are thirteen different\n",
      "measurements taken for different constituents found in the three types of\n",
      "wine.\n",
      "\n",
      "Original Owners: \n",
      "\n",
      "Forina, M. et al, PARVUS - \n",
      "An Extendible Package for Data Exploration, Classification and Correlation. \n",
      "Institute of Pharmaceutical and Food Analysis and Technologies,\n",
      "Via Brigata Salerno, 16147 Genoa, Italy.\n",
      "\n",
      "Citation:\n",
      "\n",
      "Lichman, M. (2013). UCI Machine Learning Repository\n",
      "[http://archive.ics.uci.edu/ml]. Irvine, CA: University of California,\n",
      "School of Information and Computer Science. \n",
      "\n",
      "References\n",
      "----------\n",
      "(1) \n",
      "S. Aeberhard, D. Coomans and O. de Vel, \n",
      "Comparison of Classifiers in High Dimensional Settings, \n",
      "Tech. Rep. no. 92-02, (1992), Dept. of Computer Science and Dept. of \n",
      "Mathematics and Statistics, James Cook University of North Queensland. \n",
      "(Also submitted to Technometrics). \n",
      "\n",
      "The data was used with many others for comparing various \n",
      "classifiers. The classes are separable, though only RDA \n",
      "has achieved 100% correct classification. \n",
      "(RDA : 100%, QDA 99.4%, LDA 98.9%, 1NN 96.1% (z-transformed data)) \n",
      "(All results using the leave-one-out technique) \n",
      "\n",
      "(2) \n",
      "S. Aeberhard, D. Coomans and O. de Vel, \n",
      "\"THE CLASSIFICATION PERFORMANCE OF RDA\" \n",
      "Tech. Rep. no. 92-01, (1992), Dept. of Computer Science and Dept. of \n",
      "Mathematics and Statistics, James Cook University of North Queensland. \n",
      "(Also submitted to Journal of Chemometrics). \n",
      "\n"
     ]
    }
   ],
   "source": [
    "print(wine_data['DESCR'])"
   ]
  },
  {
   "cell_type": "code",
   "execution_count": 6,
   "metadata": {
    "collapsed": true
   },
   "outputs": [],
   "source": [
    "feature_data = wine_data['data']\n",
    "labels = wine_data['target']"
   ]
  },
  {
   "cell_type": "code",
   "execution_count": 7,
   "metadata": {
    "collapsed": true
   },
   "outputs": [],
   "source": [
    "from sklearn.model_selection import train_test_split"
   ]
  },
  {
   "cell_type": "code",
   "execution_count": 8,
   "metadata": {
    "collapsed": true
   },
   "outputs": [],
   "source": [
    "X_train, X_test, y_train, y_test = train_test_split(feature_data, labels, test_size=0.3, random_state=101)"
   ]
  },
  {
   "cell_type": "code",
   "execution_count": 9,
   "metadata": {
    "collapsed": true
   },
   "outputs": [],
   "source": [
    "from sklearn.preprocessing import MinMaxScaler"
   ]
  },
  {
   "cell_type": "code",
   "execution_count": 10,
   "metadata": {
    "collapsed": true
   },
   "outputs": [],
   "source": [
    "scaler = MinMaxScaler()"
   ]
  },
  {
   "cell_type": "code",
   "execution_count": 11,
   "metadata": {
    "collapsed": true
   },
   "outputs": [],
   "source": [
    "scaled_x_train = scaler.fit_transform(X_train)\n",
    "scaled_x_test = scaler.transform(X_test)"
   ]
  },
  {
   "cell_type": "markdown",
   "metadata": {
    "collapsed": true
   },
   "source": [
    "## Keras"
   ]
  },
  {
   "cell_type": "code",
   "execution_count": 12,
   "metadata": {
    "collapsed": true
   },
   "outputs": [],
   "source": [
    "import tensorflow as tf"
   ]
  },
  {
   "cell_type": "code",
   "execution_count": 14,
   "metadata": {},
   "outputs": [],
   "source": [
    "from tensorflow.contrib.keras import models"
   ]
  },
  {
   "cell_type": "code",
   "execution_count": 15,
   "metadata": {
    "collapsed": true
   },
   "outputs": [],
   "source": [
    "dnn_keras_model = models.Sequential()"
   ]
  },
  {
   "cell_type": "code",
   "execution_count": 16,
   "metadata": {
    "collapsed": true
   },
   "outputs": [],
   "source": [
    "from tensorflow.contrib.keras import layers"
   ]
  },
  {
   "cell_type": "code",
   "execution_count": 17,
   "metadata": {
    "collapsed": true
   },
   "outputs": [],
   "source": [
    "dnn_keras_model.add(layers.Dense(units=13,input_dim=13,activation='relu'))"
   ]
  },
  {
   "cell_type": "code",
   "execution_count": 18,
   "metadata": {
    "collapsed": true
   },
   "outputs": [],
   "source": [
    "dnn_keras_model.add(layers.Dense(units=13,activation='relu'))\n",
    "dnn_keras_model.add(layers.Dense(units=13,activation='relu'))"
   ]
  },
  {
   "cell_type": "code",
   "execution_count": 19,
   "metadata": {
    "collapsed": true
   },
   "outputs": [],
   "source": [
    "dnn_keras_model.add(layers.Dense(units=3,activation='softmax')) # units: num of outputs"
   ]
  },
  {
   "cell_type": "code",
   "execution_count": 22,
   "metadata": {},
   "outputs": [],
   "source": [
    "from tensorflow.contrib.keras import losses,optimizers,metrics,activations"
   ]
  },
  {
   "cell_type": "code",
   "execution_count": 25,
   "metadata": {},
   "outputs": [],
   "source": [
    "dnn_keras_model.compile(optimizer='adam',\n",
    "                       loss='sparse_categorical_crossentropy', # if y is one-hot,remove sparse, else need sparse\n",
    "                       metrics=['accuracy'])"
   ]
  },
  {
   "cell_type": "code",
   "execution_count": 26,
   "metadata": {},
   "outputs": [
    {
     "name": "stdout",
     "output_type": "stream",
     "text": [
      "Epoch 1/50\n",
      "124/124 [==============================] - 0s - loss: 1.0791 - acc: 0.4032     \n",
      "Epoch 2/50\n",
      "124/124 [==============================] - 0s - loss: 1.0675 - acc: 0.4435     \n",
      "Epoch 3/50\n",
      "124/124 [==============================] - 0s - loss: 1.0564 - acc: 0.4758     \n",
      "Epoch 4/50\n",
      "124/124 [==============================] - 0s - loss: 1.0454 - acc: 0.5323     \n",
      "Epoch 5/50\n",
      "124/124 [==============================] - ETA: 0s - loss: 1.0425 - acc: 0.531 - 0s - loss: 1.0345 - acc: 0.5726     \n",
      "Epoch 6/50\n",
      "124/124 [==============================] - 0s - loss: 1.0224 - acc: 0.5968     \n",
      "Epoch 7/50\n",
      "124/124 [==============================] - 0s - loss: 1.0096 - acc: 0.6290     \n",
      "Epoch 8/50\n",
      "124/124 [==============================] - 0s - loss: 0.9958 - acc: 0.6613     \n",
      "Epoch 9/50\n",
      "124/124 [==============================] - 0s - loss: 0.9811 - acc: 0.6694     \n",
      "Epoch 10/50\n",
      "124/124 [==============================] - 0s - loss: 0.9646 - acc: 0.7016     \n",
      "Epoch 11/50\n",
      "124/124 [==============================] - 0s - loss: 0.9468 - acc: 0.7258     \n",
      "Epoch 12/50\n",
      "124/124 [==============================] - 0s - loss: 0.9276 - acc: 0.7419     \n",
      "Epoch 13/50\n",
      "124/124 [==============================] - 0s - loss: 0.9076 - acc: 0.7742     \n",
      "Epoch 14/50\n",
      "124/124 [==============================] - 0s - loss: 0.8852 - acc: 0.7984     \n",
      "Epoch 15/50\n",
      "124/124 [==============================] - 0s - loss: 0.8625 - acc: 0.8145     \n",
      "Epoch 16/50\n",
      "124/124 [==============================] - 0s - loss: 0.8383 - acc: 0.8226     \n",
      "Epoch 17/50\n",
      "124/124 [==============================] - 0s - loss: 0.8143 - acc: 0.8145     \n",
      "Epoch 18/50\n",
      "124/124 [==============================] - 0s - loss: 0.7894 - acc: 0.8145     \n",
      "Epoch 19/50\n",
      "124/124 [==============================] - 0s - loss: 0.7650 - acc: 0.8387     \n",
      "Epoch 20/50\n",
      "124/124 [==============================] - 0s - loss: 0.7391 - acc: 0.8548     \n",
      "Epoch 21/50\n",
      "124/124 [==============================] - 0s - loss: 0.7161 - acc: 0.8548     \n",
      "Epoch 22/50\n",
      "124/124 [==============================] - 0s - loss: 0.6917 - acc: 0.8629     \n",
      "Epoch 23/50\n",
      "124/124 [==============================] - 0s - loss: 0.6687 - acc: 0.8629     \n",
      "Epoch 24/50\n",
      "124/124 [==============================] - 0s - loss: 0.6480 - acc: 0.8548     \n",
      "Epoch 25/50\n",
      "124/124 [==============================] - 0s - loss: 0.6266 - acc: 0.8710     \n",
      "Epoch 26/50\n",
      "124/124 [==============================] - 0s - loss: 0.6083 - acc: 0.8387     \n",
      "Epoch 27/50\n",
      "124/124 [==============================] - 0s - loss: 0.5894 - acc: 0.8710     \n",
      "Epoch 28/50\n",
      "124/124 [==============================] - 0s - loss: 0.5722 - acc: 0.8710     \n",
      "Epoch 29/50\n",
      "124/124 [==============================] - 0s - loss: 0.5556 - acc: 0.8710     \n",
      "Epoch 30/50\n",
      "124/124 [==============================] - 0s - loss: 0.5391 - acc: 0.8871     \n",
      "Epoch 31/50\n",
      "124/124 [==============================] - 0s - loss: 0.5240 - acc: 0.8952     \n",
      "Epoch 32/50\n",
      "124/124 [==============================] - 0s - loss: 0.5091 - acc: 0.9032     \n",
      "Epoch 33/50\n",
      "124/124 [==============================] - 0s - loss: 0.4939 - acc: 0.9194     \n",
      "Epoch 34/50\n",
      "124/124 [==============================] - 0s - loss: 0.4796 - acc: 0.9194     \n",
      "Epoch 35/50\n",
      "124/124 [==============================] - 0s - loss: 0.4659 - acc: 0.9274     \n",
      "Epoch 36/50\n",
      "124/124 [==============================] - 0s - loss: 0.4510 - acc: 0.9274     \n",
      "Epoch 37/50\n",
      "124/124 [==============================] - 0s - loss: 0.4366 - acc: 0.9355     \n",
      "Epoch 38/50\n",
      "124/124 [==============================] - 0s - loss: 0.4224 - acc: 0.9435     \n",
      "Epoch 39/50\n",
      "124/124 [==============================] - 0s - loss: 0.4078 - acc: 0.9435     \n",
      "Epoch 40/50\n",
      "124/124 [==============================] - 0s - loss: 0.3934 - acc: 0.9516     \n",
      "Epoch 41/50\n",
      "124/124 [==============================] - 0s - loss: 0.3787 - acc: 0.9597     \n",
      "Epoch 42/50\n",
      "124/124 [==============================] - 0s - loss: 0.3656 - acc: 0.9597     \n",
      "Epoch 43/50\n",
      "124/124 [==============================] - 0s - loss: 0.3507 - acc: 0.9597     \n",
      "Epoch 44/50\n",
      "124/124 [==============================] - 0s - loss: 0.3365 - acc: 0.9597     \n",
      "Epoch 45/50\n",
      "124/124 [==============================] - 0s - loss: 0.3232 - acc: 0.9677     \n",
      "Epoch 46/50\n",
      "124/124 [==============================] - 0s - loss: 0.3089 - acc: 0.9597     \n",
      "Epoch 47/50\n",
      "124/124 [==============================] - 0s - loss: 0.2955 - acc: 0.9677     \n",
      "Epoch 48/50\n",
      "124/124 [==============================] - 0s - loss: 0.2821 - acc: 0.9677     \n",
      "Epoch 49/50\n",
      "124/124 [==============================] - 0s - loss: 0.2701 - acc: 0.9677     \n",
      "Epoch 50/50\n",
      "124/124 [==============================] - 0s - loss: 0.2580 - acc: 0.9677     \n"
     ]
    },
    {
     "data": {
      "text/plain": [
       "<tensorflow.contrib.keras.python.keras.callbacks.History at 0x2689b66fc18>"
      ]
     },
     "execution_count": 26,
     "metadata": {},
     "output_type": "execute_result"
    }
   ],
   "source": [
    "dnn_keras_model.fit(scaled_x_train,y_train,epochs=50)"
   ]
  },
  {
   "cell_type": "code",
   "execution_count": 27,
   "metadata": {},
   "outputs": [
    {
     "name": "stdout",
     "output_type": "stream",
     "text": [
      "\r",
      "32/54 [================>.............] - ETA: 0s"
     ]
    }
   ],
   "source": [
    "predictions = dnn_keras_model.predict_classes(scaled_x_test)"
   ]
  },
  {
   "cell_type": "code",
   "execution_count": 28,
   "metadata": {
    "collapsed": true
   },
   "outputs": [],
   "source": [
    "from sklearn.metrics import classification_report"
   ]
  },
  {
   "cell_type": "code",
   "execution_count": 31,
   "metadata": {},
   "outputs": [
    {
     "name": "stdout",
     "output_type": "stream",
     "text": [
      "             precision    recall  f1-score   support\n",
      "\n",
      "          0       0.90      1.00      0.95        19\n",
      "          1       1.00      0.91      0.95        22\n",
      "          2       1.00      1.00      1.00        13\n",
      "\n",
      "avg / total       0.97      0.96      0.96        54\n",
      "\n"
     ]
    }
   ],
   "source": [
    "print(classification_report(y_test,predictions))"
   ]
  },
  {
   "cell_type": "code",
   "execution_count": null,
   "metadata": {
    "collapsed": true
   },
   "outputs": [],
   "source": []
  }
 ],
 "metadata": {
  "kernelspec": {
   "display_name": "Python 3",
   "language": "python",
   "name": "python3"
  },
  "language_info": {
   "codemirror_mode": {
    "name": "ipython",
    "version": 3
   },
   "file_extension": ".py",
   "mimetype": "text/x-python",
   "name": "python",
   "nbconvert_exporter": "python",
   "pygments_lexer": "ipython3",
   "version": "3.5.4"
  }
 },
 "nbformat": 4,
 "nbformat_minor": 2
}
